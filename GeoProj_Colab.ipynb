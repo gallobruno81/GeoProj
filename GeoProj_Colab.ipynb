{
  "cells": [
    {
      "cell_type": "markdown",
      "metadata": {},
      "source": [
        "# GeoProj - Corrección de Distorsión Geométrica en Imágenes\n",
        "\n",
        "Este notebook implementa el método de **Blind Geometric Distortion Correction** usando Deep Learning.\n",
        "\n",
        "**Paper:** Li et al., CVPR 2019  \n",
        "**Repositorio:** https://github.com/xiaoyu258/GeoProj\n",
        "\n",
        "---\n",
        "\n",
        "## 🎯 Tipos de Distorsión Detectados\n",
        "- **Barrel** (barril)\n",
        "- **Pincushion** (cojín)\n",
        "- **Rotation** (rotación)\n",
        "- **Shear** (cizallamiento)\n",
        "- **Projective** (proyectiva)\n",
        "- **Wave** (onda)\n"
      ]
    },
    {
      "cell_type": "markdown",
      "metadata": {},
      "source": [
        "## 1️⃣ Configuración Inicial - Verificar GPU\n"
      ]
    },
    {
      "cell_type": "code",
      "execution_count": null,
      "metadata": {},
      "outputs": [],
      "source": [
        "# Verificar GPU\n",
        "!nvidia-smi\n"
      ]
    },
    {
      "cell_type": "code",
      "execution_count": null,
      "metadata": {},
      "outputs": [],
      "source": [
        "# Instalar dependencias\n",
        "!pip install torch torchvision --quiet\n",
        "!pip install scikit-image scipy numba matplotlib pillow --quiet\n",
        "\n",
        "print(\"✓ Dependencias instaladas\")\n"
      ]
    },
    {
      "cell_type": "markdown",
      "metadata": {},
      "source": [
        "## 2️⃣ Clonar Repositorio\n"
      ]
    },
    {
      "cell_type": "code",
      "execution_count": null,
      "metadata": {},
      "outputs": [],
      "source": [
        "import os\n",
        "\n",
        "# Clonar el repositorio (cambiar URL por tu fork si lo has modificado)\n",
        "REPO_URL = \"https://github.com/xiaoyu258/GeoProj.git\"  # Cambiar por tu repo\n",
        "\n",
        "if not os.path.exists('GeoProj'):\n",
        "    !git clone {REPO_URL}\n",
        "    print(\"✓ Repositorio clonado\")\n",
        "else:\n",
        "    print(\"✓ Repositorio ya existe\")\n",
        "\n",
        "# Cambiar al directorio del proyecto\n",
        "%cd GeoProj\n"
      ]
    },
    {
      "cell_type": "markdown",
      "metadata": {},
      "source": [
        "## 3️⃣ Descargar Modelos Pre-entrenados\n",
        "\n",
        "**IMPORTANTE:** Descarga los modelos manualmente desde:  \n",
        "https://drive.google.com/open?id=1Tdi92IMA-rrX2ozdUMvfiN0jCZY7wIp_\n",
        "\n",
        "Luego súbelos usando la celda siguiente.\n"
      ]
    },
    {
      "cell_type": "code",
      "execution_count": null,
      "metadata": {},
      "outputs": [],
      "source": [
        "from google.colab import files\n",
        "import os\n",
        "\n",
        "os.makedirs('models', exist_ok=True)\n",
        "\n",
        "print(\"Sube los 3 archivos del modelo (.pkl):\")\n",
        "print(\"  - model_en.pkl\")\n",
        "print(\"  - model_de.pkl\")\n",
        "print(\"  - model_class.pkl\")\n",
        "print(\"\\nHaz clic en 'Choose Files' y selecciona los archivos\")\n",
        "\n",
        "uploaded = files.upload()\n",
        "\n",
        "# Mover a carpeta models\n",
        "for filename in uploaded.keys():\n",
        "    !mv {filename} models/\n",
        "    print(f\"✓ {filename} movido a models/\")\n",
        "\n",
        "# Verificar\n",
        "print(\"\\nArchivos en models/:\")\n",
        "!ls -lh models/\n"
      ]
    },
    {
      "cell_type": "markdown",
      "metadata": {},
      "source": [
        "## 4️⃣ Subir Imagen para Procesar\n"
      ]
    },
    {
      "cell_type": "code",
      "execution_count": null,
      "metadata": {},
      "outputs": [],
      "source": [
        "from google.colab import files\n",
        "from IPython.display import Image as IPImage, display\n",
        "import os\n",
        "\n",
        "print(\"Sube tu imagen distorsionada:\")\n",
        "uploaded = files.upload()\n",
        "\n",
        "# Obtener nombre del archivo subido\n",
        "input_image = list(uploaded.keys())[0]\n",
        "print(f\"\\n✓ Imagen subida: {input_image}\")\n",
        "\n",
        "# Mostrar imagen\n",
        "display(IPImage(filename=input_image, width=400))\n"
      ]
    },
    {
      "cell_type": "markdown",
      "metadata": {},
      "source": [
        "## 5️⃣ Procesar Imagen (Detección + Flow)\n"
      ]
    },
    {
      "cell_type": "code",
      "execution_count": null,
      "metadata": {},
      "outputs": [],
      "source": [
        "# Ejecutar inferencia\n",
        "!python inference.py --input_image {input_image} --output_dir results --model_dir models\n",
        "\n",
        "print(\"\\n\" + \"=\"*60)\n",
        "print(\"✓ Procesamiento completado\")\n",
        "print(\"=\"*60)\n"
      ]
    },
    {
      "cell_type": "code",
      "execution_count": null,
      "metadata": {},
      "outputs": [],
      "source": [
        "# Visualizar el flujo óptico detectado\n",
        "from IPython.display import Image as IPImage, display\n",
        "import os\n",
        "\n",
        "base_name = os.path.splitext(input_image)[0]\n",
        "flow_viz_path = f'results/{base_name}_flow_viz.png'\n",
        "\n",
        "if os.path.exists(flow_viz_path):\n",
        "    print(\"Visualización del Flujo Óptico:\")\n",
        "    display(IPImage(filename=flow_viz_path, width=800))\n",
        "else:\n",
        "    print(\"No se encontró la visualización del flujo\")\n"
      ]
    },
    {
      "cell_type": "markdown",
      "metadata": {},
      "source": [
        "## 6️⃣ Aplicar Corrección (Rectificación)\n",
        "\n",
        "**Nota:** Esto requiere GPU con CUDA. Si no funciona en Colab, el flujo ya está calculado.\n"
      ]
    },
    {
      "cell_type": "code",
      "execution_count": null,
      "metadata": {},
      "outputs": [],
      "source": [
        "import os\n",
        "\n",
        "base_name = os.path.splitext(input_image)[0]\n",
        "resized_path = f'results/{base_name}_resized.jpg'\n",
        "flow_path = f'results/{base_name}_flow.npy'\n",
        "\n",
        "try:\n",
        "    # Intentar rectificación\n",
        "    !python rectify.py --img_path {resized_path} --flow_path {flow_path} --output_dir results\n",
        "    rectification_success = True\n",
        "except Exception as e:\n",
        "    print(f\"Error en rectificación: {e}\")\n",
        "    print(\"\\nLa rectificación requiere CUDA. Puedes descargar el flujo y procesarlo localmente.\")\n",
        "    rectification_success = False\n"
      ]
    },
    {
      "cell_type": "markdown",
      "metadata": {},
      "source": [
        "## 7️⃣ Ver Resultados\n"
      ]
    },
    {
      "cell_type": "code",
      "execution_count": null,
      "metadata": {},
      "outputs": [],
      "source": [
        "from IPython.display import Image as IPImage, display\n",
        "import os\n",
        "\n",
        "base_name = os.path.splitext(input_image)[0]\n",
        "\n",
        "# Mostrar comparación si existe\n",
        "comparison_path = f'results/{base_name}_comparison.png'\n",
        "if os.path.exists(comparison_path):\n",
        "    print(\"Comparación Antes/Después:\")\n",
        "    display(IPImage(filename=comparison_path, width=800))\n",
        "else:\n",
        "    print(\"Comparación no disponible\")\n",
        "    \n",
        "    # Mostrar imagen corregida si existe\n",
        "    corrected_path = f'results/{base_name}_corrected.png'\n",
        "    if os.path.exists(corrected_path):\n",
        "        print(\"\\nImagen Corregida:\")\n",
        "        display(IPImage(filename=corrected_path, width=400))\n"
      ]
    },
    {
      "cell_type": "markdown",
      "metadata": {},
      "source": [
        "## 8️⃣ Descargar Resultados\n"
      ]
    },
    {
      "cell_type": "code",
      "execution_count": null,
      "metadata": {},
      "outputs": [],
      "source": [
        "# Comprimir resultados\n",
        "!zip -r results.zip results/\n",
        "\n",
        "# Descargar\n",
        "from google.colab import files\n",
        "files.download('results.zip')\n",
        "\n",
        "print(\"✓ Resultados comprimidos y listos para descargar\")\n"
      ]
    },
    {
      "cell_type": "markdown",
      "metadata": {},
      "source": [
        "---\n",
        "\n",
        "## 📝 Notas Importantes\n",
        "\n",
        "1. **Tamaño de imagen:** El modelo funciona con imágenes de 256x256. Las imágenes se redimensionan automáticamente.\n",
        "\n",
        "2. **GPU:** Se recomienda usar GPU para mejor rendimiento. En Colab: `Runtime` > `Change runtime type` > `GPU`\n",
        "\n",
        "3. **CUDA para rectificación:** La etapa de rectificación usa numba-cuda y requiere GPU.\n",
        "\n",
        "4. **Archivos generados:**\n",
        "   - `*_flow.npy`: Flujo óptico calculado\n",
        "   - `*_flow_viz.png`: Visualización del flujo\n",
        "   - `*_resized.jpg`: Imagen redimensionada\n",
        "   - `*_corrected.png`: Imagen corregida\n",
        "   - `*_comparison.png`: Comparación antes/después\n",
        "\n",
        "---\n",
        "\n",
        "## 📚 Referencias\n",
        "\n",
        "**Paper:** Li, X., Zhang, B., Sander, P. V., & Liao, J. (2019). *Blind Geometric Distortion Correction on Images Through Deep Learning.* CVPR 2019.\n",
        "\n",
        "**ArXiv:** https://arxiv.org/abs/1909.03459  \n",
        "**GitHub:** https://github.com/xiaoyu258/GeoProj\n"
      ]
    }
  ],
  "metadata": {
    "language_info": {
      "name": "python"
    }
  },
  "nbformat": 4,
  "nbformat_minor": 2
}
