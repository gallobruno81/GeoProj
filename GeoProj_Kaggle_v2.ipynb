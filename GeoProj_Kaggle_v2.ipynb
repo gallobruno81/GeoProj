{
  "cells": [
    {
      "cell_type": "markdown",
      "metadata": {},
      "source": [
        "# 🎯 GeoProj HD - Corrección de Distorsión\n",
        "\n",
        "✅ **Resolución Original** | ✅ **Sin CUDA** | ✅ **Intensidad Ajustable**\n",
        "\n",
        "---\n",
        "\n",
        "## 🚀 Setup Rápido\n",
        "\n",
        "1. GPU: Settings → GPU T4\n",
        "2. Dataset: + Add Data → Modelos + Imágenes\n",
        "3. Run All\n",
        "\n",
        "⏱️ Tiempo: ~3-5 min/imagen\n"
      ]
    },
    {
      "cell_type": "markdown",
      "metadata": {},
      "source": [
        "## 1️⃣ Instalar Dependencias\n"
      ]
    },
    {
      "cell_type": "code",
      "execution_count": null,
      "metadata": {},
      "outputs": [],
      "source": [
        "%%capture --no-stderr\n",
        "# Instalar versiones compatibles\n",
        "\n",
        "!pip uninstall numpy opencv-python -y -q 2>/dev/null\n",
        "!pip install numpy==1.26.4 opencv-python==4.7.0.72 -q\n",
        "!pip install torch torchvision scipy matplotlib Pillow scikit-image -q\n"
      ]
    },
    {
      "cell_type": "code",
      "execution_count": null,
      "metadata": {},
      "outputs": [],
      "source": [
        "# Verificar\n",
        "import torch, numpy as np, cv2\n",
        "\n",
        "print(f\"✅ NumPy: {np.__version__} | OpenCV: {cv2.__version__}\")\n",
        "print(f\"✅ GPU: {torch.cuda.get_device_name(0) if torch.cuda.is_available() else 'CPU'}\")\n"
      ]
    },
    {
      "cell_type": "markdown",
      "metadata": {},
      "source": [
        "## 2️⃣ Clonar Código\n"
      ]
    },
    {
      "cell_type": "code",
      "execution_count": null,
      "metadata": {},
      "outputs": [],
      "source": [
        "import os, shutil\n",
        "\n",
        "for d in ['GeoProj']: \n",
        "    if os.path.exists(d): shutil.rmtree(d)\n",
        "\n",
        "!git clone https://github.com/gallobruno81/GeoProj.git -q\n",
        "os.chdir('GeoProj')\n",
        "print(f\"✅ Código: {os.getcwd()}\")\n"
      ]
    },
    {
      "cell_type": "markdown",
      "metadata": {},
      "source": [
        "## 3️⃣ Configurar Modelos\n",
        "\n",
        "**Descarga**: https://drive.google.com/open?id=1Tdi92IMA-rrX2ozdUMvfiN0jCZY7wIp_\n"
      ]
    },
    {
      "cell_type": "code",
      "execution_count": null,
      "metadata": {},
      "outputs": [],
      "source": [
        "os.makedirs('models', exist_ok=True)\n",
        "\n",
        "models = ['model_en.pkl', 'model_de.pkl', 'model_class.pkl']\n",
        "found = []\n",
        "\n",
        "if os.path.exists('/kaggle/input'):\n",
        "    for root, _, files in os.walk('/kaggle/input'):\n",
        "        for m in models:\n",
        "            if m in files:\n",
        "                shutil.copy2(os.path.join(root, m), f'models/{m}')\n",
        "                found.append(m)\n",
        "\n",
        "print(f\"{'✅' if len(found)==3 else '⚠️'} Modelos: {len(found)}/3\")\n"
      ]
    },
    {
      "cell_type": "markdown",
      "metadata": {},
      "source": [
        "## 4️⃣ Cargar Imágenes\n"
      ]
    },
    {
      "cell_type": "code",
      "execution_count": null,
      "metadata": {},
      "outputs": [],
      "source": [
        "from IPython.display import Image as IPImage, display\n",
        "from PIL import Image\n",
        "\n",
        "images = []\n",
        "if os.path.exists('/kaggle/input'):\n",
        "    for root, _, files in os.walk('/kaggle/input'):\n",
        "        for f in files:\n",
        "            if f.lower().endswith(('.jpg', '.png', '.bmp')):\n",
        "                if not os.path.exists(f):\n",
        "                    shutil.copy2(os.path.join(root, f), f)\n",
        "                    images.append(f)\n",
        "\n",
        "print(f\"✅ {len(images)} imagen(es)\")\n",
        "for img in images: display(IPImage(filename=img, width=400))\n"
      ]
    },
    {
      "cell_type": "markdown",
      "metadata": {},
      "source": [
        "## 5️⃣ Procesar\n"
      ]
    },
    {
      "cell_type": "code",
      "execution_count": null,
      "metadata": {},
      "outputs": [],
      "source": [
        "import time\n",
        "\n",
        "if images:\n",
        "    print(f\"⚙️ Procesando {len(images)}...\\n\")\n",
        "    start = time.time()\n",
        "    \n",
        "    for img in images:\n",
        "        !python inference_hd.py --input_image \"{img}\" --output_dir results --model_dir models\n",
        "    \n",
        "    print(f\"\\n✅ Completado en {time.time()-start:.1f}s\")\n"
      ]
    },
    {
      "cell_type": "markdown",
      "metadata": {},
      "source": [
        "## 6️⃣ Aplicar Corrección\n",
        "\n",
        "**FLOW_SCALE**: 1.0=normal | 1.5=fuerte ⭐ | 2.0=muy fuerte\n"
      ]
    },
    {
      "cell_type": "code",
      "execution_count": null,
      "metadata": {},
      "outputs": [],
      "source": [
        "FLOW_SCALE = 1.5  # 👈 AJUSTA AQUÍ\n",
        "\n",
        "flows = [f for f in os.listdir('results') if '_flow_hd.npy' in f]\n",
        "\n",
        "if flows:\n",
        "    print(f\"🔧 Rectificando con {FLOW_SCALE}x...\\n\")\n",
        "    start = time.time()\n",
        "    \n",
        "    for flow in flows:\n",
        "        base = flow.replace('_flow_hd.npy', '')\n",
        "        !python rectify_hd.py --img_path \"results/{base}_original.jpg\" --flow_path \"results/{flow}\" --output_dir results --flow_scale {FLOW_SCALE}\n",
        "    \n",
        "    print(f\"\\n✅ Completado en {time.time()-start:.1f}s\")\n"
      ]
    },
    {
      "cell_type": "markdown",
      "metadata": {},
      "source": [
        "## 7️⃣ Ver Resultados\n"
      ]
    },
    {
      "cell_type": "code",
      "execution_count": null,
      "metadata": {},
      "outputs": [],
      "source": [
        "corrected = [f for f in os.listdir('results') if '_corrected_hd.png' in f]\n",
        "\n",
        "for corr in corrected:\n",
        "    base = corr.replace('_corrected_hd.png', '')\n",
        "    \n",
        "    # Comparación\n",
        "    comp = f'results/{base}_comparison_simple_hd.png'\n",
        "    if os.path.exists(comp):\n",
        "        display(IPImage(filename=comp, width=1200))\n",
        "    \n",
        "    # Corregida\n",
        "    display(IPImage(filename=f'results/{corr}', width=600))\n",
        "    \n",
        "    # Flow\n",
        "    flow = f'results/{base}_flow_viz_hd.png'\n",
        "    if os.path.exists(flow):\n",
        "        display(IPImage(filename=flow, width=900))\n"
      ]
    },
    {
      "cell_type": "markdown",
      "metadata": {},
      "source": [
        "## 8️⃣ Descargar\n"
      ]
    },
    {
      "cell_type": "code",
      "execution_count": null,
      "metadata": {},
      "outputs": [],
      "source": [
        "!zip -r -q results_hd.zip results/\n",
        "\n",
        "if os.path.exists('results_hd.zip'):\n",
        "    size = os.path.getsize('results_hd.zip') / (1024*1024)\n",
        "    print(f\"✅ results_hd.zip ({size:.2f} MB)\")\n",
        "    print(\"\\n📥 Save Version → Output → Descarga\")\n"
      ]
    },
    {
      "cell_type": "markdown",
      "metadata": {},
      "source": [
        "---\n",
        "\n",
        "## 🎉 ¡Listo!\n",
        "\n",
        "**Tips**: Ajusta `FLOW_SCALE` en celda 6 | Más imágenes: desde celda 4\n",
        "\n",
        "**GitHub**: https://github.com/gallobruno81/GeoProj\n",
        "\n",
        "*GeoProj HD v2 - Octubre 2025*\n"
      ]
    }
  ],
  "metadata": {
    "kernelspec": {
      "display_name": "Python 3",
      "language": "python",
      "name": "python3"
    },
    "language_info": {
      "name": "python",
      "version": "3.11.0"
    }
  },
  "nbformat": 4,
  "nbformat_minor": 4
}
